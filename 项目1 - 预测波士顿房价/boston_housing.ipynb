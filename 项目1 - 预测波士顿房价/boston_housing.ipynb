{
 "cells": [
  {
   "cell_type": "markdown",
   "metadata": {},
   "source": [
    "# 机器学习工程师纳米学位\n",
    "## 模型评价与验证\n",
    "## 项目 1: 预测波士顿房价\n",
    "\n",
    "\n",
    "欢迎来到机器学习工程师纳米学位的第一个项目！在此文件中，有些示例代码已经提供给你，但你还需要实现更多的功能来让项目成功运行。除非有明确要求，你无须修改任何已给出的代码。以**编程练习**开始的标题表示接下来的内容中有需要你必须实现的功能。每一部分都会有详细的指导，需要实现的部分也会在注释中以**TODO**标出。请仔细阅读所有的提示！\n",
    "\n",
    "除了实现代码外，你还**必须**回答一些与项目和实现有关的问题。每一个需要你回答的问题都会以**'问题 X'**为标题。请仔细阅读每个问题，并且在问题后的**'回答'**文字框中写出完整的答案。你的项目将会根据你对问题的回答和撰写代码所实现的功能来进行评分。\n",
    "\n",
    ">**提示：**Code 和 Markdown 区域可通过 **Shift + Enter** 快捷键运行。此外，Markdown可以通过双击进入编辑模式。"
   ]
  },
  {
   "cell_type": "markdown",
   "metadata": {},
   "source": [
    "---\n",
    "## 第一步. 导入数据\n",
    "在这个项目中，你将利用马萨诸塞州波士顿郊区的房屋信息数据训练和测试一个模型，并对模型的性能和预测能力进行测试。通过该数据训练后的好的模型可以被用来对房屋做特定预测---尤其是对房屋的价值。对于房地产经纪等人的日常工作来说，这样的预测模型被证明非常有价值。\n",
    "\n",
    "此项目的数据集来自[UCI机器学习知识库(数据集已下线)](https://archive.ics.uci.edu/ml/datasets.html)。波士顿房屋这些数据于1978年开始统计，共506个数据点，涵盖了麻省波士顿不同郊区房屋14种特征的信息。本项目对原始数据集做了以下处理：\n",
    "- 有16个`'MEDV'` 值为50.0的数据点被移除。 这很可能是由于这些数据点包含**遗失**或**看不到的值**。\n",
    "- 有1个数据点的 `'RM'` 值为8.78. 这是一个异常值，已经被移除。\n",
    "- 对于本项目，房屋的`'RM'`， `'LSTAT'`，`'PTRATIO'`以及`'MEDV'`特征是必要的，其余不相关特征已经被移除。\n",
    "- `'MEDV'`特征的值已经过必要的数学转换，可以反映35年来市场的通货膨胀效应。\n",
    "\n",
    "运行下面区域的代码以载入波士顿房屋数据集，以及一些此项目所需的Python库。如果成功返回数据集的大小，表示数据集已载入成功。"
   ]
  },
  {
   "cell_type": "code",
   "execution_count": 3,
   "metadata": {
    "collapsed": true
   },
   "outputs": [],
   "source": [
    "# 载入此项目所需要的库\n",
    "import numpy as np\n",
    "import pandas as pd\n",
    "import visuals as vs # Supplementary code\n",
    "\n",
    "# 检查你的Python版本\n",
    "from sys import version_info\n",
    "if version_info.major != 2 and version_info.minor != 7:\n",
    "    raise Exception('请使用Python 2.7来完成此项目')\n",
    "    \n",
    "# 让结果在notebook中显示\n",
    "%matplotlib inline"
   ]
  },
  {
   "cell_type": "code",
   "execution_count": 4,
   "metadata": {},
   "outputs": [
    {
     "name": "stdout",
     "output_type": "stream",
     "text": [
      "Boston housing dataset has 489 data points with 4 variables each.\n"
     ]
    }
   ],
   "source": [
    "# 载入波士顿房屋的数据集\n",
    "data = pd.read_csv('housing.csv')\n",
    "prices = data['MEDV']\n",
    "features = data.drop('MEDV', axis = 1)\n",
    "    \n",
    "# 完成\n",
    "print \"Boston housing dataset has {} data points with {} variables each.\".format(*data.shape)"
   ]
  },
  {
   "cell_type": "markdown",
   "metadata": {},
   "source": [
    "---\n",
    "## 第二步. 分析数据\n",
    "在项目的第一个部分，你会对波士顿房地产数据进行初步的观察并给出你的分析。通过对数据的探索来熟悉数据可以让你更好地理解和解释你的结果。\n",
    "\n",
    "由于这个项目的最终目标是建立一个预测房屋价值的模型，我们需要将数据集分为**特征(features)**和**目标变量(target variable)**。\n",
    "- **特征** `'RM'`， `'LSTAT'`，和 `'PTRATIO'`，给我们提供了每个数据点的数量相关的信息。\n",
    "- **目标变量**：` 'MEDV'`，是我们希望预测的变量。\n",
    "\n",
    "他们分别被存在`features`和`prices`两个变量名中。"
   ]
  },
  {
   "cell_type": "markdown",
   "metadata": {},
   "source": [
    "### 编程练习 1：基础统计运算\n",
    "你的第一个编程练习是计算有关波士顿房价的描述统计数据。我们已为你导入了` numpy `，你需要使用这个库来执行必要的计算。这些统计数据对于分析模型的预测结果非常重要的。\n",
    "在下面的代码中，你要做的是：\n",
    "- 计算`prices`中的`'MEDV'`的最小值、最大值、均值、中值和标准差；\n",
    "- 将运算结果储存在相应的变量中。"
   ]
  },
  {
   "cell_type": "code",
   "execution_count": 5,
   "metadata": {},
   "outputs": [
    {
     "name": "stdout",
     "output_type": "stream",
     "text": [
      "Statistics for Boston housing dataset:\n",
      "\n",
      "Minimum price: $105,000.00\n",
      "Maximum price: $1,024,800.00\n",
      "Mean price: $454,342.94\n",
      "Median price $438,900.00\n",
      "Standard deviation of prices: $165,171.13\n"
     ]
    }
   ],
   "source": [
    "#TODO 1\n",
    "\n",
    "#目标：计算价值的最小值\n",
    "minimum_price = np.min(prices)\n",
    "\n",
    "#目标：计算价值的最大值\n",
    "maximum_price = np.max(prices)\n",
    "\n",
    "#目标：计算价值的平均值\n",
    "mean_price = np.mean(prices)\n",
    "\n",
    "#目标：计算价值的中值\n",
    "median_price = np.median(prices)\n",
    "\n",
    "#目标：计算价值的标准差\n",
    "std_price = np.std(prices)\n",
    "\n",
    "#目标：输出计算的结果\n",
    "print \"Statistics for Boston housing dataset:\\n\"\n",
    "print \"Minimum price: ${:,.2f}\".format(minimum_price)\n",
    "print \"Maximum price: ${:,.2f}\".format(maximum_price)\n",
    "print \"Mean price: ${:,.2f}\".format(mean_price)\n",
    "print \"Median price ${:,.2f}\".format(median_price)\n",
    "print \"Standard deviation of prices: ${:,.2f}\".format(std_price)"
   ]
  },
  {
   "cell_type": "markdown",
   "metadata": {},
   "source": [
    "### 问题 1 - 特征观察\n",
    "\n",
    "如前文所述，本项目中我们关注的是其中三个值:`'RM'`、`'LSTAT'` 和`'PTRATIO'`，对每一个数据点:\n",
    "- `'RM'` 是该地区中每个房屋的平均房间数量；\n",
    "- `'LSTAT'` 是指该地区有多少百分比的房东属于是低收入阶层（有工作但收入微薄）；\n",
    "- `'PTRATIO'` 是该地区的中学和小学里，学生和老师的数目比（`学生/老师`）。\n",
    "\n",
    "_凭直觉，上述三个特征中对每一个来说，你认为增大该特征的数值，`'MEDV'`的值会是**增大**还是**减小**呢？每一个答案都需要你给出理由。_\n",
    "\n",
    "**提示：**你预期一个`'RM'` 值是6的房屋跟`'RM'` 值是7的房屋相比，价值更高还是更低呢？"
   ]
  },
  {
   "cell_type": "markdown",
   "metadata": {},
   "source": [
    "### 问题 1 - 回答：\n",
    "1. ‘RM’特征的增大，也会增大MEDV的值，直观上讲更多的房间有更多的实用价值\n",
    "2. ‘LSTAT’特征的增大，可能会导致MEDV的降低，低收入阶层越多可能代表了该地区的整体经济不太好\n",
    "3. ‘PTRATIO’特征的增大，会会导致MEDV的降低，因为一般情况下学生/老师的比例越低，代表了更好的教育质量"
   ]
  },
  {
   "cell_type": "markdown",
   "metadata": {},
   "source": [
    "### 编程练习 2: 数据分割与重排\n",
    "接下来，你需要把波士顿房屋数据集分成训练和测试两个子集。通常在这个过程中，数据也会被重排列，以消除数据集中由于顺序而产生的偏差。\n",
    "在下面的代码中，你需要\n",
    "\n",
    "使用 `sklearn.model_selection` 中的 `train_test_split`， 将`features`和`prices`的数据都分成用于训练的数据子集和用于测试的数据子集。\n",
    "  - 分割比例为：80%的数据用于训练，20%用于测试；\n",
    "  - 选定一个数值以设定 `train_test_split` 中的 `random_state` ，这会确保结果的一致性；"
   ]
  },
  {
   "cell_type": "code",
   "execution_count": 13,
   "metadata": {},
   "outputs": [],
   "source": [
    "# TODO 2\n",
    "\n",
    "from sklearn.model_selection import train_test_split\n",
    "\n",
    "X_train, X_test, y_train, y_test = train_test_split(features, prices, test_size = 0.2, random_state = 40)\n",
    "\n"
   ]
  },
  {
   "cell_type": "markdown",
   "metadata": {},
   "source": [
    "### 问题 2 - 训练及测试\n",
    "*将数据集按一定比例分为训练用的数据集和测试用的数据集对学习算法有什么好处？*\n",
    "\n",
    "*如果用模型已经见过的数据，例如部分训练集数据进行测试，又有什么坏处？*\n",
    "\n",
    "**提示：** 如果没有数据来对模型进行测试，会出现什么问题？"
   ]
  },
  {
   "cell_type": "markdown",
   "metadata": {},
   "source": [
    "### 问题 2 - 回答:\n",
    "1. 可以基于独立数据集对分类器/预测器的性能进行评估；\n",
    "2. 能够通过比较模型在数据集上的测试分数和训练分数来判断模型是否有过拟合或者欠拟合的问题\n",
    "3. 若用模型已经见过的数据，有可能不能发现过拟合现行，不能很好的评估模型的泛化程度。"
   ]
  },
  {
   "cell_type": "markdown",
   "metadata": {},
   "source": [
    "---\n",
    "## 第三步. 模型衡量标准\n",
    "在项目的第三步中，你需要了解必要的工具和技巧来让你的模型进行预测。用这些工具和技巧对每一个模型的表现做精确的衡量可以极大地增强你预测的信心。"
   ]
  },
  {
   "cell_type": "markdown",
   "metadata": {},
   "source": [
    "### 编程练习3：定义衡量标准\n",
    "如果不能对模型的训练和测试的表现进行量化地评估，我们就很难衡量模型的好坏。通常我们会定义一些衡量标准，这些标准可以通过对某些误差或者拟合程度的计算来得到。在这个项目中，你将通过运算[*决定系数*](http://stattrek.com/statistics/dictionary.aspx?definition=coefficient_of_determination) R<sup>2</sup> 来量化模型的表现。模型的决定系数是回归分析中十分常用的统计信息，经常被当作衡量模型预测能力好坏的标准。\n",
    "\n",
    "R<sup>2</sup>的数值范围从0至1，表示**目标变量**的预测值和实际值之间的相关程度平方的百分比。一个模型的R<sup>2</sup> 值为0还不如直接用**平均值**来预测效果好；而一个R<sup>2</sup> 值为1的模型则可以对目标变量进行完美的预测。从0至1之间的数值，则表示该模型中目标变量中有百分之多少能够用**特征**来解释。_模型也可能出现负值的R<sup>2</sup>，这种情况下模型所做预测有时会比直接计算目标变量的平均值差很多。_\n",
    "\n",
    "在下方代码的 `performance_metric` 函数中，你要实现：\n",
    "- 使用 `sklearn.metrics` 中的 [`r2_score`](http://scikit-learn.org/stable/modules/generated/sklearn.metrics.r2_score.html) 来计算 `y_true` 和 `y_predict`的R<sup>2</sup>值，作为对其表现的评判。\n",
    "- 将他们的表现评分储存到`score`变量中。\n",
    "\n",
    "或 \n",
    "\n",
    "- (可选) 不使用任何外部库，参考[决定系数的定义](https://en.wikipedia.org/wiki/Coefficient_of_determination)进行计算，这也可以帮助你更好的理解决定系数在什么情况下等于0或等于1。"
   ]
  },
  {
   "cell_type": "code",
   "execution_count": 9,
   "metadata": {
    "collapsed": true
   },
   "outputs": [],
   "source": [
    "# TODO 3\n",
    "\n",
    "# 提示： 导入r2_score\n",
    "\n",
    "def performance_metric(y_true, y_predict):\n",
    "    \"\"\"计算并返回预测值相比于预测值的分数\"\"\"\n",
    "    \n",
    "    from sklearn.metrics import r2_score\n",
    "    \n",
    "    score = r2_score(y_true, y_predict)\n",
    "\n",
    "    return score"
   ]
  },
  {
   "cell_type": "code",
   "execution_count": 3,
   "metadata": {
    "collapsed": true
   },
   "outputs": [],
   "source": [
    "# TODO 3 可选\n",
    "\n",
    "# 不允许导入任何计算决定系数的库\n",
    "\n",
    "import numpy as np\n",
    "\n",
    "def performance_metric2(y_true, y_predict):\n",
    "    \"\"\"计算并返回预测值相比于预测值的分数\"\"\"\n",
    "    \n",
    "    y_true = np.array(y_true)\n",
    "    \n",
    "    y_predict = np.array(y_predict)\n",
    "    \n",
    "    means = np.mean(y_true)\n",
    "    \n",
    "    ss_tot = np.sum(np.square(y_true - means))\n",
    "    \n",
    "    ss_res = np.sum(np.square(y_true - y_predict))\n",
    "    \n",
    "    score = 1 - ss_res / ss_tot\n",
    "\n",
    "    return score"
   ]
  },
  {
   "cell_type": "markdown",
   "metadata": {},
   "source": [
    "### 问题 3 - 拟合程度\n",
    "\n",
    "假设一个数据集有五个数据且一个模型做出下列目标变量的预测：\n",
    "\n",
    "| 真实数值 | 预测数值 |\n",
    "| :-------------: | :--------: |\n",
    "| 3.0 | 2.5 |\n",
    "| -0.5 | 0.0 |\n",
    "| 2.0 | 2.1 |\n",
    "| 7.0 | 7.8 |\n",
    "| 4.2 | 5.3 |\n",
    "*你觉得这个模型已成功地描述了目标变量的变化吗？如果成功，请解释为什么，如果没有，也请给出原因。*  \n",
    "\n",
    "**提示**：运行下方的代码，使用`performance_metric`函数来计算模型的决定系数。"
   ]
  },
  {
   "cell_type": "code",
   "execution_count": 10,
   "metadata": {},
   "outputs": [
    {
     "name": "stdout",
     "output_type": "stream",
     "text": [
      "Model has a coefficient of determination, R^2, of 0.923.\n"
     ]
    }
   ],
   "source": [
    "# 计算这个模型的预测结果的决定系数\n",
    "score = performance_metric([3, -0.5, 2, 7, 4.2], [2.5, 0.0, 2.1, 7.8, 5.3])\n",
    "print \"Model has a coefficient of determination, R^2, of {:.3f}.\".format(score)"
   ]
  },
  {
   "cell_type": "markdown",
   "metadata": {},
   "source": [
    "### 问题 3 - 回答:\n",
    "1. 该模型很好地描述了目标变量的变化，直观上来看，预测值始终环绕着真值存在一定的误差，但误差不大，且预测值随真值变化的趋势相同。\n",
    "2. 从R_2指数上来看，0.923接近于1，说明了预测值和真实值之间有很好的相关性，该模型可用。"
   ]
  },
  {
   "cell_type": "markdown",
   "metadata": {},
   "source": [
    "---\n",
    "## 第四步. 分析模型的表现\n",
    "在项目的第四步，我们来看一下不同参数下，模型在训练集和验证集上的表现。这里，我们专注于一个特定的算法（带剪枝的决策树，但这并不是这个项目的重点），和这个算法的一个参数 `'max_depth'`。用全部训练集训练，选择不同`'max_depth'` 参数，观察这一参数的变化如何影响模型的表现。画出模型的表现来对于分析过程十分有益，这可以让我们看到一些单看结果看不到的行为。"
   ]
  },
  {
   "cell_type": "markdown",
   "metadata": {},
   "source": [
    "### 学习曲线\n",
    "下方区域内的代码会输出四幅图像，它们是一个决策树模型在不同最大深度下的表现。每一条曲线都直观得显示了随着训练数据量的增加，模型学习曲线的在训练集评分和验证集评分的变化，评分使用决定系数R<sup>2</sup>。曲线的阴影区域代表的是该曲线的不确定性（用标准差衡量）。\n",
    "\n",
    "运行下方区域中的代码，并利用输出的图形回答下面的问题。"
   ]
  },
  {
   "cell_type": "code",
   "execution_count": 11,
   "metadata": {
    "scrolled": false
   },
   "outputs": [
    {
     "data": {
      "image/png": "[encoded data removed]",
      "text/plain": [
       "<matplotlib.figure.Figure at 0xc403b38>"
      ]
     },
     "metadata": {},
     "output_type": "display_data"
    }
   ],
   "source": [
    "# 根据不同的训练集大小，和最大深度，生成学习曲线\n",
    "vs.ModelLearning(X_train, y_train)"
   ]
  },
  {
   "cell_type": "markdown",
   "metadata": {},
   "source": [
    "### 问题 4 - 学习曲线\n",
    "*选择上述图像中的其中一个，并给出其最大深度。随着训练数据量的增加，训练集曲线的评分有怎样的变化？验证集曲线呢？如果有更多的训练数据，是否能有效提升模型的表现呢？*\n",
    "\n",
    "**提示：**学习曲线的评分是否最终会收敛到特定的值？"
   ]
  },
  {
   "cell_type": "markdown",
   "metadata": {},
   "source": [
    "### 问题 4 - 回答:\n",
    "图4-max_depth = 10 时\n",
    "1. 随着训练数据量的增加，训练集的评分始终接近于1，而验证集的评分在训练数据增大到50左右开始猛增，后逐渐趋于收敛在0.6左右。\n",
    "2. 初步判断该决策树可能存在过拟合，训练集的数据可以得到很高的评分而在测试集上泛化的不够理想;\n",
    "3. 即使有更多的训练数据，应该对模型的表现提升不大。"
   ]
  },
  {
   "cell_type": "markdown",
   "metadata": {},
   "source": [
    "### 复杂度曲线\n",
    "下列代码内的区域会输出一幅图像，它展示了一个已经经过训练和验证的决策树模型在不同最大深度条件下的表现。这个图形将包含两条曲线，一个是训练集的变化，一个是验证集的变化。跟**学习曲线**相似，阴影区域代表该曲线的不确定性，模型训练和测试部分的评分都用的 `performance_metric` 函数。\n",
    "\n",
    "运行下方区域中的代码，并利用输出的图形并回答下面的两个问题。"
   ]
  },
  {
   "cell_type": "code",
   "execution_count": 12,
   "metadata": {},
   "outputs": [
    {
     "data": {
      "image/png": "[encoded data removed]",
      "text/plain": [
       "<matplotlib.figure.Figure at 0xc923898>"
      ]
     },
     "metadata": {},
     "output_type": "display_data"
    }
   ],
   "source": [
    "# 根据不同的最大深度参数，生成复杂度曲线\n",
    "vs.ModelComplexity(X_train, y_train)"
   ]
  },
  {
   "cell_type": "markdown",
   "metadata": {},
   "source": [
    "### 问题 5 - 偏差（bias）与方差（variance）之间的权衡取舍\n",
    "*当模型以最大深度 1训练时，模型的预测是出现很大的偏差还是出现了很大的方差？当模型以最大深度10训练时，情形又如何呢？图形中的哪些特征能够支持你的结论？*\n",
    "  \n",
    "**提示：** 你如何得知模型是否出现了偏差很大或者方差很大的问题？"
   ]
  },
  {
   "cell_type": "markdown",
   "metadata": {},
   "source": [
    "### 问题 5 - 回答:\n",
    "1. 当Maximum depth = 1 时， 模型的预测出现很大的偏差，此时训练集和验证集都不能获得较好的评分，说明模型可能过于简单，不能充分利用有效的特征。\n",
    "2. 当Maximum depth = 10 时，模型的预测出现很大的方差，此时模型在训练集上表现优异，但不能很好的适应验证集，说明泛化程度不够，出现过拟合。"
   ]
  },
  {
   "cell_type": "markdown",
   "metadata": {},
   "source": [
    "### 问题 6- 最优模型的猜测\n",
    "*结合问题 5 中的图，你认为最大深度是多少的模型能够最好地对未见过的数据进行预测？你得出这个答案的依据是什么？*"
   ]
  },
  {
   "cell_type": "markdown",
   "metadata": {},
   "source": [
    "### 问题 6 - 回答:\n",
    "Maximum depth = 4 时，验证数据集的评分达到最高，此时训练集的评分也基本优秀，所以该最大深度在其他同等条件下，能够最好地对模型进行预测。"
   ]
  },
  {
   "cell_type": "markdown",
   "metadata": {},
   "source": [
    "---\n",
    "## 第五步. 选择最优参数"
   ]
  },
  {
   "cell_type": "markdown",
   "metadata": {},
   "source": [
    "### 问题 7- 网格搜索（Grid Search）\n",
    "*什么是网格搜索法？如何用它来优化模型？*\n"
   ]
  },
  {
   "cell_type": "markdown",
   "metadata": {},
   "source": [
    "### 问题 7 - 回答:\n",
    "1. 该方法用于系统地遍历多种参数组合，通过交叉验证确定最佳效果参数。\n",
    "2. 只通过几行代码即可实现对不同参数组合的各种排列组合并进行测试，得出相对最优参数，节省了大量的调参工作量"
   ]
  },
  {
   "cell_type": "markdown",
   "metadata": {},
   "source": [
    "### 问题 8 - 交叉验证\n",
    "- 什么是K折交叉验证法（k-fold cross-validation）？\n",
    "- [GridSearchCV](http://scikit-learn.org/stable/modules/generated/sklearn.model_selection.GridSearchCV.html)是如何结合交叉验证来完成对最佳参数组合的选择的？\n",
    "- [GridSearchCV](http://scikit-learn.org/stable/modules/generated/sklearn.model_selection.GridSearchCV.html)中的`'cv_results_'`属性能告诉我们什么？\n",
    "- 网格搜索时如果不使用交叉验证会有什么问题？交叉验证又是如何解决这个问题的？\n",
    "\n",
    "**提示：** 在下面 fit_model函数最后加入 `print pd.DataFrame(grid.cv_results_)` 可以帮你查看更多信息。"
   ]
  },
  {
   "cell_type": "markdown",
   "metadata": {},
   "source": [
    "### 问题 8 - 回答：\n",
    "1. 将现有的训练集划分为k个子集，每次取该容器中的一个子集作为验证集，其余的k-1个子集为训练集并评估得分，依次遍历该排列组合后对其结果进行平均。\n",
    "2. GridSearchCV可将给定的不同参数排列组合成n种组合，然后一种一种进行测试（且在给定参数组合的条件下，进行k折交叉验证，按test_core的平均值来评定该组参数的得分），最后即可得出得分最高的一种参数组合。\n",
    "3. Cv属性告诉我们在对每一个给定的参数组合进行验证时，进行k-折交叉验证的折数，由此k折交叉验证的到的test_score的平均值来评价当前参数组合的得分，最后选出得分最高的参数组合。如cv = 3，则交叉验证时会将训练集分为3份，取其中一份作为验证集，其余两份作为训练集，求取模型分数，并依次尝试三种组合。\n",
    "4. 在数据集有限的情况下，希望将训练集和测试集都最大化，以便获得最佳的学习效果和最佳验证，如何平衡这一点，所以选择K折交叉验证，学习方法的评估会更加准确。\n",
    "5. 网格搜索时若不使用交叉验证，则有可能无法准确的评估学习模型的分数，若分离训练集/验证集时恰好将同种标签的数据分为一类，则有可能导致预测得分特别差而不能有效察觉。"
   ]
  },
  {
   "cell_type": "markdown",
   "metadata": {},
   "source": [
    "### 编程练习 4：训练最优模型\n",
    "在这个练习中，你将需要将所学到的内容整合，使用**决策树算法**训练一个模型。为了得出的是一个最优模型，你需要使用网格搜索法训练模型，以找到最佳的 `'max_depth'` 参数。你可以把`'max_depth'` 参数理解为决策树算法在做出预测前，允许其对数据提出问题的数量。决策树是**监督学习算法**中的一种。\n",
    "\n",
    "在下方 `fit_model` 函数中，你需要做的是：\n",
    "1. **定义 `'cross_validator'` 变量**: 使用 `sklearn.model_selection` 中的 [`KFold`](http://scikit-learn.org/stable/modules/generated/sklearn.model_selection.KFold.html) 创建一个交叉验证生成器对象;\n",
    "2. **定义 `'regressor'` 变量**: 使用  `sklearn.tree` 中的 [`DecisionTreeRegressor`](http://scikit-learn.org/stable/modules/generated/sklearn.tree.DecisionTreeRegressor.html) 创建一个决策树的回归函数;\n",
    "3. **定义 `'params'` 变量**: 为 `'max_depth'` 参数创造一个字典，它的值是从1至10的数组;\n",
    "4. **定义 `'scoring_fnc'` 变量**: 使用 `sklearn.metrics` 中的 [`make_scorer`](http://scikit-learn.org/stable/modules/generated/sklearn.metrics.make_scorer.html)  创建一个评分函数；\n",
    " 将 `‘performance_metric’` 作为参数传至这个函数中；\n",
    "5. **定义 `'grid'` 变量**: 使用 `sklearn.model_selection` 中的 [`GridSearchCV`](http://scikit-learn.org/stable/modules/generated/sklearn.model_selection.GridSearchCV.html) 创建一个网格搜索对象；将变量`'regressor'`, `'params'`, `'scoring_fnc'`和 `'cross_validator'` 作为参数传至这个对象构造函数中；\n",
    "  \n",
    "如果你对python函数的默认参数定义和传递不熟悉，可以参考这个MIT课程的[视频](http://cn-static.udacity.com/mlnd/videos/MIT600XXT114-V004200_DTH.mp4)。"
   ]
  },
  {
   "cell_type": "code",
   "execution_count": 22,
   "metadata": {
    "collapsed": true
   },
   "outputs": [],
   "source": [
    "# TODO 4\n",
    "\n",
    "#提示: 导入 'KFold' 'DecisionTreeRegressor' 'make_scorer' 'GridSearchCV' \n",
    "from sklearn.model_selection import KFold\n",
    "from sklearn.tree import DecisionTreeRegressor\n",
    "from sklearn.metrics import make_scorer\n",
    "from sklearn.model_selection import GridSearchCV\n",
    "\n",
    "def fit_model(X, y):\n",
    "    \"\"\" 基于输入数据 [X,y]，利于网格搜索找到最优的决策树模型\"\"\"\n",
    "    \n",
    "    cross_validator = KFold(n_splits=3, shuffle=True, random_state=None)\n",
    "    \n",
    "    regressor = DecisionTreeRegressor()\n",
    "\n",
    "    params = { 'max_depth' : [1, 2, 3, 4, 5, 6, 7, 8, 9, 10]}\n",
    "\n",
    "    scoring_fnc = make_scorer( score_func = performance_metric)\n",
    "\n",
    "    grid = GridSearchCV( estimator = regressor, param_grid = params, scoring = scoring_fnc, cv = cross_validator )\n",
    "\n",
    "    # 基于输入数据 [X,y]，进行网格搜索\n",
    "    grid = grid.fit(X, y)\n",
    "    \n",
    "    print pd.DataFrame(grid.cv_results_)\n",
    "    \n",
    "    # 返回网格搜索后的最优模型\n",
    "    return grid.best_estimator_"
   ]
  },
  {
   "cell_type": "markdown",
   "metadata": {},
   "source": [
    "### 编程练习 4：训练最优模型 （可选）\n",
    "在这个练习中，你将需要将所学到的内容整合，使用**决策树算法**训练一个模型。为了得出的是一个最优模型，你需要使用网格搜索法训练模型，以找到最佳的 `'max_depth'` 参数。你可以把`'max_depth'` 参数理解为决策树算法在做出预测前，允许其对数据提出问题的数量。决策树是**监督学习算法**中的一种。\n",
    "\n",
    "在下方 `fit_model` 函数中，你需要做的是：\n",
    "\n",
    "- 遍历参数`‘max_depth’`的可选值 1～10，构造对应模型\n",
    "- 计算当前模型的交叉验证分数\n",
    "- 返回最优交叉验证分数对应的模型"
   ]
  },
  {
   "cell_type": "code",
   "execution_count": null,
   "metadata": {
    "collapsed": true
   },
   "outputs": [],
   "source": [
    "# TODO 4 可选\n",
    "\n",
    "'''\n",
    "不允许使用 DecisionTreeRegressor 以外的任何 sklearn 库\n",
    "\n",
    "提示: 你可能需要实现下面的 cross_val_score 函数\n",
    "\n",
    "def cross_val_score(estimator, X, y, scoring = performance_metric, cv=3):\n",
    "    \"\"\" 返回每组交叉验证的模型分数的数组 \"\"\"\n",
    "    scores = [0,0,0]\n",
    "    return scores\n",
    "'''\n",
    "\n",
    "def fit_model2(X, y):\n",
    "    \"\"\" 基于输入数据 [X,y]，利于网格搜索找到最优的决策树模型\"\"\"\n",
    "    \n",
    "    #最优交叉验证分数对应的最优模型\n",
    "    best_estimator = None\n",
    "    \n",
    "    return best_estimator"
   ]
  },
  {
   "cell_type": "markdown",
   "metadata": {},
   "source": [
    "### 问题 9 - 最优模型\n",
    "*最优模型的最大深度（maximum depth）是多少？此答案与你在**问题 6**所做的猜测是否相同？*\n",
    "\n",
    "运行下方区域内的代码，将决策树回归函数代入训练数据的集合，以得到最优化的模型。"
   ]
  },
  {
   "cell_type": "code",
   "execution_count": 16,
   "metadata": {
    "scrolled": true
   },
   "outputs": [
    {
     "name": "stdout",
     "output_type": "stream",
     "text": [
      "   mean_fit_time  mean_score_time  mean_test_score  mean_train_score  \\\n",
      "0       0.001000         0.001000         0.344296          0.475569   \n",
      "1       0.001333         0.000667         0.634485          0.740069   \n",
      "2       0.001333         0.000333         0.722873          0.832978   \n",
      "3       0.001000         0.000667         0.753896          0.885945   \n",
      "4       0.001333         0.000333         0.748980          0.910483   \n",
      "5       0.002667         0.001000         0.729998          0.937559   \n",
      "6       0.001667         0.000667         0.727945          0.956006   \n",
      "7       0.002000         0.000000         0.690681          0.971684   \n",
      "8       0.001000         0.000667         0.699380          0.982036   \n",
      "9       0.001667         0.000000         0.681892          0.989698   \n",
      "\n",
      "  param_max_depth              params  rank_test_score  split0_test_score  \\\n",
      "0               1   {u'max_depth': 1}               10           0.362099   \n",
      "1               2   {u'max_depth': 2}                9           0.658188   \n",
      "2               3   {u'max_depth': 3}                5           0.761144   \n",
      "3               4   {u'max_depth': 4}                1           0.819079   \n",
      "4               5   {u'max_depth': 5}                2           0.783942   \n",
      "5               6   {u'max_depth': 6}                3           0.789203   \n",
      "6               7   {u'max_depth': 7}                4           0.774311   \n",
      "7               8   {u'max_depth': 8}                7           0.746871   \n",
      "8               9   {u'max_depth': 9}                6           0.746560   \n",
      "9              10  {u'max_depth': 10}                8           0.732420   \n",
      "\n",
      "   split0_train_score  split1_test_score  split1_train_score  \\\n",
      "0            0.477124           0.440173            0.436550   \n",
      "1            0.739797           0.728465            0.710926   \n",
      "2            0.836669           0.826169            0.816050   \n",
      "3            0.883140           0.855208            0.879544   \n",
      "4            0.911655           0.857438            0.907061   \n",
      "5            0.945366           0.811010            0.932666   \n",
      "6            0.961202           0.794669            0.957293   \n",
      "7            0.972591           0.747860            0.978293   \n",
      "8            0.981038           0.751341            0.986903   \n",
      "9            0.989204           0.738299            0.993248   \n",
      "\n",
      "   split2_test_score  split2_train_score  std_fit_time  std_score_time  \\\n",
      "0           0.230503            0.513035  1.123916e-07    1.123916e-07   \n",
      "1           0.516651            0.769484  4.714266e-04    4.714266e-04   \n",
      "2           0.581060            0.846216  4.713704e-04    4.714827e-04   \n",
      "3           0.586983            0.895152  1.123916e-07    4.714266e-04   \n",
      "4           0.605336            0.912734  4.713704e-04    4.713704e-04   \n",
      "5           0.589402            0.934646  4.713704e-04    1.123916e-07   \n",
      "6           0.614558            0.949523  4.714266e-04    4.713704e-04   \n",
      "7           0.576953            0.964169  1.123916e-07    0.000000e+00   \n",
      "8           0.599937            0.978166  0.000000e+00    4.714827e-04   \n",
      "9           0.574633            0.986642  4.714266e-04    0.000000e+00   \n",
      "\n",
      "   std_test_score  std_train_score  \n",
      "0        0.086434         0.031244  \n",
      "1        0.088002         0.023907  \n",
      "2        0.103580         0.012589  \n",
      "3        0.118757         0.006674  \n",
      "4        0.105760         0.002460  \n",
      "5        0.099656         0.005579  \n",
      "6        0.080479         0.004854  \n",
      "7        0.080290         0.005802  \n",
      "8        0.070231         0.003636  \n",
      "9        0.075760         0.002719  \n",
      "Parameter 'max_depth' is 4 for the optimal model.\n"
     ]
    }
   ],
   "source": [
    "# 基于训练数据，获得最优模型\n",
    "optimal_reg = fit_model(X_train, y_train)\n",
    "\n",
    "# 输出最优模型的 'max_depth' 参数\n",
    "print \"Parameter 'max_depth' is {} for the optimal model.\".format(optimal_reg.get_params()['max_depth'])"
   ]
  },
  {
   "cell_type": "markdown",
   "metadata": {},
   "source": [
    "### 问题 9 - 回答：\n",
    "最优模型的最大深度为4，与问题6所做的猜测相同。"
   ]
  },
  {
   "cell_type": "markdown",
   "metadata": {},
   "source": [
    "## 第六步. 做出预测\n",
    "当我们用数据训练出一个模型，它现在就可用于对新的数据进行预测。在决策树回归函数中，模型已经学会对新输入的数据*提问*，并返回对**目标变量**的预测值。你可以用这个预测来获取数据未知目标变量的信息，这些数据必须是不包含在训练数据之内的。"
   ]
  },
  {
   "cell_type": "markdown",
   "metadata": {},
   "source": [
    "### 问题 10 - 预测销售价格\n",
    "想像你是一个在波士顿地区的房屋经纪人，并期待使用此模型以帮助你的客户评估他们想出售的房屋。你已经从你的三个客户收集到以下的资讯:\n",
    "\n",
    "| 特征 | 客戶 1 | 客戶 2 | 客戶 3 |\n",
    "| :---: | :---: | :---: | :---: |\n",
    "| 房屋内房间总数 | 5 间房间 | 4 间房间 | 8 间房间 |\n",
    "| 社区贫困指数（％被认为是贫困阶层） | 17% | 32% | 3% |\n",
    "| 邻近学校的学生-老师比例 | 15：1 | 22：1 | 12：1 |\n",
    "\n",
    "*你会建议每位客户的房屋销售的价格为多少？从房屋特征的数值判断，这样的价格合理吗？为什么？* \n",
    "\n",
    "**提示：**用你在**分析数据**部分计算出来的统计信息来帮助你证明你的答案。\n",
    "\n",
    "运行下列的代码区域，使用你优化的模型来为每位客户的房屋价值做出预测。"
   ]
  },
  {
   "cell_type": "code",
   "execution_count": 19,
   "metadata": {},
   "outputs": [
    {
     "name": "stdout",
     "output_type": "stream",
     "text": [
      "Predicted selling price for Client 1's home: $421,336.36\n",
      "Predicted selling price for Client 2's home: $232,650.00\n",
      "Predicted selling price for Client 3's home: $892,850.00\n"
     ]
    }
   ],
   "source": [
    "# 生成三个客户的数据\n",
    "client_data = [[5, 17, 15], # 客户 1\n",
    "               [4, 32, 22], # 客户 2\n",
    "               [8, 3, 12]]  # 客户 3\n",
    "\n",
    "# 进行预测\n",
    "predicted_price = optimal_reg.predict(client_data)\n",
    "for i, price in enumerate(predicted_price):\n",
    "    print \"Predicted selling price for Client {}'s home: ${:,.2f}\".format(i+1, price)"
   ]
  },
  {
   "cell_type": "markdown",
   "metadata": {},
   "source": [
    "### 问题 10 - 回答：\n",
    "1. 每位客户的房屋销售价格分别为*421,336.36*，*232,650.00*，*892,850.00*；\n",
    "2. 该结果合理，客户3的房子无论从房间数，社区贫困指数还是师生比上都是最好的，得到的预测结果也是价格最高的；反之客户2的房子各方面都是最差的，得到的预测价格也最便宜。\n",
    "3. 根据分析数据部分得出的统计信息，客户3的房子属于高价，客户2的房子属于接近最低价，客户1的房子在平均值和中值附近。"
   ]
  },
  {
   "cell_type": "markdown",
   "metadata": {},
   "source": [
    "### 编程练习 5\n",
    "你刚刚预测了三个客户的房子的售价。在这个练习中，你将用你的最优模型在整个测试数据上进行预测, 并计算相对于目标变量的决定系数 R<sup>2</sup>的值**。"
   ]
  },
  {
   "cell_type": "code",
   "execution_count": 20,
   "metadata": {},
   "outputs": [
    {
     "name": "stdout",
     "output_type": "stream",
     "text": [
      "Optimal model has R^2 score 0.64 on test data\n"
     ]
    }
   ],
   "source": [
    "#TODO 5\n",
    "\n",
    "# 提示：你可能需要用到 X_test, y_test, optimal_reg, performance_metric\n",
    "# 提示：你可能需要参考问题10的代码进行预测\n",
    "# 提示：你可能需要参考问题3的代码来计算R^2的值\n",
    "\n",
    "pred = optimal_reg.predict(X_test)\n",
    "\n",
    "r2 =  performance_metric(y_test, pred)\n",
    "\n",
    "print \"Optimal model has R^2 score {:,.2f} on test data\".format(r2)"
   ]
  },
  {
   "cell_type": "markdown",
   "metadata": {},
   "source": [
    "### 问题11 - 分析决定系数\n",
    "\n",
    "你刚刚计算了最优模型在测试集上的决定系数，你会如何评价这个结果？"
   ]
  },
  {
   "cell_type": "markdown",
   "metadata": {},
   "source": [
    "### 问题11 - 回答\n",
    "最优模型在测试集上的决定系数为0.64， 说明其模型性能尚可，虽然不是特别高但是也能作为有效预测。"
   ]
  },
  {
   "cell_type": "markdown",
   "metadata": {},
   "source": [
    "### 模型健壮性\n",
    "\n",
    "一个最优的模型不一定是一个健壮模型。有的时候模型会过于复杂或者过于简单，以致于难以泛化新增添的数据；有的时候模型采用的学习算法并不适用于特定的数据结构；有的时候样本本身可能有太多噪点或样本过少，使得模型无法准确地预测目标变量。这些情况下我们会说模型是欠拟合的。\n",
    "\n",
    "### 问题 12 - 模型健壮性\n",
    "\n",
    "模型是否足够健壮来保证预测的一致性？\n",
    "\n",
    "**提示**: 执行下方区域中的代码，采用不同的训练和测试集执行 `fit_model` 函数10次。注意观察对一个特定的客户来说，预测是如何随训练数据的变化而变化的。"
   ]
  },
  {
   "cell_type": "code",
   "execution_count": 21,
   "metadata": {},
   "outputs": [
    {
     "name": "stdout",
     "output_type": "stream",
     "text": [
      "Trial 1: $411,000.00\n",
      "Trial 2: $411,417.39\n",
      "Trial 3: $415,800.00\n",
      "Trial 4: $420,622.22\n",
      "Trial 5: $418,377.27\n",
      "Trial 6: $411,931.58\n",
      "Trial 7: $390,250.00\n",
      "Trial 8: $407,232.00\n",
      "Trial 9: $402,531.82\n",
      "Trial 10: $421,852.94\n",
      "\n",
      "Range in prices: $31,602.94\n"
     ]
    }
   ],
   "source": [
    "# 请先注释掉 fit_model 函数里的所有 print 语句\n",
    "vs.PredictTrials(features, prices, fit_model, client_data)"
   ]
  },
  {
   "cell_type": "markdown",
   "metadata": {},
   "source": [
    "### 问题 12 - 回答：\n",
    "模型足够健壮，虽然采用不同的训练集和测试集进行测试，对于一个特定客户的房产价格预测有一定浮动，但浮动范围很小且稳定。"
   ]
  },
  {
   "cell_type": "markdown",
   "metadata": {},
   "source": [
    "### 问题 13 - 实用性探讨\n",
    "*简单地讨论一下你建构的模型能否在现实世界中使用？* \n",
    "\n",
    "提示：回答以下几个问题，并给出相应结论的理由：\n",
    "- *1978年所采集的数据，在已考虑通货膨胀的前提下，在今天是否仍然适用？*\n",
    "- *数据中呈现的特征是否足够描述一个房屋？*\n",
    "- *在波士顿这样的大都市采集的数据，能否应用在其它乡镇地区？*\n",
    "- *你觉得仅仅凭房屋所在社区的环境来判断房屋价值合理吗？*"
   ]
  },
  {
   "cell_type": "markdown",
   "metadata": {},
   "source": [
    "### 问题 13 - 回答：\n",
    "1. 不能，房价具有很强的时效性，最好加入时间戳相关特征；\n",
    "2. 不足够，比如还有居民区的绿化程度，开发商品牌（涉及到信誉、房屋建筑质量），周边配套设施（车站，商场等），地理位置等等一系列因素；\n",
    "3. 不能，不同地区影响房价的因素不一样，大都市和乡村的追逐点更是相差甚远；\n",
    "4. 不合理，还要考虑交通因素，建筑商，房屋使用年限等因素。\n"
   ]
  },
  {
   "cell_type": "markdown",
   "metadata": {},
   "source": [
    "## 可选问题 - 预测北京房价\n",
    "\n",
    "（本题结果不影响项目是否通过）通过上面的实践，相信你对机器学习的一些常用概念有了很好的领悟和掌握。但利用70年代的波士顿房价数据进行建模的确对我们来说意义不是太大。现在你可以把你上面所学应用到北京房价数据集中 `bj_housing.csv`。\n",
    "\n",
    "免责声明：考虑到北京房价受到宏观经济、政策调整等众多因素的直接影响，预测结果仅供参考。\n",
    "\n",
    "这个数据集的特征有：\n",
    "- Area：房屋面积，平方米\n",
    "- Room：房间数，间\n",
    "- Living: 厅数，间\n",
    "- School: 是否为学区房，0或1\n",
    "- Year: 房屋建造时间，年\n",
    "- Floor: 房屋所处楼层，层\n",
    "\n",
    "目标变量：\n",
    "- Value: 房屋人民币售价，万\n",
    "\n",
    "你可以参考上面学到的内容，拿这个数据集来练习数据分割与重排、定义衡量标准、训练模型、评价模型表现、使用网格搜索配合交叉验证对参数进行调优并选出最佳参数，比较两者的差别，最终得出最佳模型对验证集的预测分数。"
   ]
  },
  {
   "cell_type": "markdown",
   "metadata": {},
   "source": [
    "### 载入此项目所需要的库"
   ]
  },
  {
   "cell_type": "code",
   "execution_count": 49,
   "metadata": {
    "collapsed": true
   },
   "outputs": [],
   "source": [
    "import numpy as np\n",
    "import pandas as pd\n",
    "import visuals as vs \n",
    "\n",
    "%matplotlib inline"
   ]
  },
  {
   "cell_type": "markdown",
   "metadata": {},
   "source": [
    "### 载入北京房屋的数据集"
   ]
  },
  {
   "cell_type": "code",
   "execution_count": 33,
   "metadata": {},
   "outputs": [
    {
     "name": "stdout",
     "output_type": "stream",
     "text": [
      "Beijing housing dataset has 9999 data points with 7 variables each.\n"
     ]
    }
   ],
   "source": [
    "data_bj = pd.read_csv('bj_housing.csv')\n",
    "prices_bj = data_bj['Value']\n",
    "features_bj = data_bj.drop('Value', axis = 1)\n",
    "    \n",
    "# 完成\n",
    "print \"Beijing housing dataset has {} data points with {} variables each.\".format(*data_bj.shape)"
   ]
  },
  {
   "cell_type": "markdown",
   "metadata": {},
   "source": [
    "### 数据分割与重排"
   ]
  },
  {
   "cell_type": "code",
   "execution_count": 34,
   "metadata": {
    "collapsed": true
   },
   "outputs": [],
   "source": [
    "from sklearn.model_selection import train_test_split\n",
    "\n",
    "features_train, features_test, labels_train, labels_test = train_test_split(features_bj, prices_bj, test_size = 20)"
   ]
  },
  {
   "cell_type": "markdown",
   "metadata": {},
   "source": [
    "### 定义衡量标准"
   ]
  },
  {
   "cell_type": "code",
   "execution_count": 35,
   "metadata": {
    "collapsed": true
   },
   "outputs": [],
   "source": [
    "from sklearn.metrics import r2_score\n",
    "\n",
    "def performance_metric_bj(y_true, y_predict):\n",
    "    \"\"\"计算并返回预测值相比于预测值的分数\"\"\"\n",
    "    \n",
    "    score = r2_score(y_true, y_predict)\n",
    "\n",
    "    return score"
   ]
  },
  {
   "cell_type": "markdown",
   "metadata": {},
   "source": [
    "### 训练最优模型"
   ]
  },
  {
   "cell_type": "code",
   "execution_count": 46,
   "metadata": {
    "collapsed": true
   },
   "outputs": [],
   "source": [
    "#提示: 导入 'KFold' 'DecisionTreeRegressor' 'make_scorer' 'GridSearchCV' \n",
    "from sklearn.cross_validation import KFold\n",
    "from sklearn.tree import DecisionTreeRegressor\n",
    "from sklearn.metrics import make_scorer\n",
    "from sklearn.model_selection import GridSearchCV\n",
    "\n",
    "def fit_model_bj(X, y):\n",
    "    cross_validator_bj = KFold( len(X), 3)\n",
    "    \n",
    "    reg_bj = DecisionTreeRegressor()\n",
    "    \n",
    "    params_bj = { 'max_depth' : [1, 2, 3, 4, 5, 6, 7, 8, 9, 10], 'min_samples_split': [2, 3, 4, 5, 6, 7, 8, 9, 10]}\n",
    "    \n",
    "    scoring_fnc_bj = make_scorer( score_func = performance_metric_bj)\n",
    "    \n",
    "    grid_bj = GridSearchCV( estimator = reg_bj, param_grid = params_bj, scoring = scoring_fnc_bj, cv = cross_validator_bj)\n",
    "    \n",
    "    grid_bj = grid_bj.fit(X, y)\n",
    "    \n",
    "    print pd.DataFrame(grid_bj.cv_results_)\n",
    "    \n",
    "    return grid_bj.best_estimator_"
   ]
  },
  {
   "cell_type": "markdown",
   "metadata": {},
   "source": [
    "### 得到最优模型"
   ]
  },
  {
   "cell_type": "code",
   "execution_count": 50,
   "metadata": {},
   "outputs": [
    {
     "name": "stdout",
     "output_type": "stream",
     "text": [
      "    mean_fit_time  mean_score_time  mean_test_score  mean_train_score  \\\n",
      "0        0.002333         0.001000         0.253648          0.297256   \n",
      "1        0.003000         0.001000         0.253648          0.297256   \n",
      "2        0.002000         0.001000         0.253648          0.297256   \n",
      "3        0.004667         0.001333         0.253648          0.297256   \n",
      "4        0.002000         0.001000         0.253648          0.297256   \n",
      "5        0.002667         0.000667         0.253648          0.297256   \n",
      "6        0.002333         0.000667         0.253648          0.297256   \n",
      "7        0.002667         0.000667         0.253648          0.297256   \n",
      "8        0.002667         0.000333         0.253648          0.297256   \n",
      "9        0.003000         0.001000         0.459864          0.533014   \n",
      "10       0.003667         0.000333         0.407503          0.533014   \n",
      "11       0.003667         0.000333         0.459864          0.533014   \n",
      "12       0.003667         0.000333         0.459864          0.533014   \n",
      "13       0.003000         0.001000         0.407503          0.533014   \n",
      "14       0.004000         0.000667         0.459864          0.533014   \n",
      "15       0.003000         0.001000         0.407503          0.533014   \n",
      "16       0.003000         0.000667         0.459864          0.533014   \n",
      "17       0.004000         0.000000         0.407503          0.533014   \n",
      "18       0.004667         0.000333         0.551044          0.632412   \n",
      "19       0.004000         0.000667         0.602445          0.632412   \n",
      "20       0.004667         0.000333         0.551044          0.632412   \n",
      "21       0.004333         0.000333         0.602445          0.632412   \n",
      "22       0.004333         0.000667         0.602445          0.632412   \n",
      "23       0.004333         0.000333         0.551044          0.632412   \n",
      "24       0.004000         0.001000         0.602445          0.632412   \n",
      "25       0.004333         0.001000         0.602445          0.632412   \n",
      "26       0.004333         0.000000         0.602445          0.632412   \n",
      "27       0.005333         0.000667         0.570477          0.673511   \n",
      "28       0.005000         0.001000         0.622896          0.673511   \n",
      "29       0.005000         0.000333         0.570477          0.673511   \n",
      "..            ...              ...              ...               ...   \n",
      "60       0.008667         0.001000         0.619578          0.769192   \n",
      "61       0.008000         0.001000         0.612544          0.766283   \n",
      "62       0.008333         0.001000         0.614182          0.762540   \n",
      "63       0.009667         0.001000         0.622382          0.812167   \n",
      "64       0.009667         0.001000         0.574252          0.810928   \n",
      "65       0.009333         0.001000         0.563996          0.809020   \n",
      "66       0.009333         0.000667         0.633385          0.806952   \n",
      "67       0.009000         0.001000         0.612826          0.801304   \n",
      "68       0.009000         0.001000         0.636767          0.800426   \n",
      "69       0.009333         0.001000         0.563867          0.790247   \n",
      "70       0.009000         0.001000         0.614359          0.786817   \n",
      "71       0.008667         0.001000         0.564352          0.782949   \n",
      "72       0.010000         0.001000         0.562400          0.835543   \n",
      "73       0.010333         0.000667         0.582669          0.833178   \n",
      "74       0.010333         0.001000         0.629365          0.831010   \n",
      "75       0.009667         0.001333         0.576210          0.828522   \n",
      "76       0.009333         0.000667         0.632387          0.822029   \n",
      "77       0.009000         0.001000         0.581720          0.820368   \n",
      "78       0.010000         0.000333         0.620600          0.808972   \n",
      "79       0.010000         0.001000         0.575488          0.805386   \n",
      "80       0.010000         0.001000         0.576043          0.800442   \n",
      "81       0.011333         0.001000         0.597870          0.859108   \n",
      "82       0.013000         0.001667         0.628455          0.856285   \n",
      "83       0.014333         0.001000         0.592180          0.852989   \n",
      "84       0.011000         0.000667         0.640022          0.849953   \n",
      "85       0.011000         0.001000         0.636042          0.842341   \n",
      "86       0.010667         0.001000         0.585801          0.840105   \n",
      "87       0.010333         0.001000         0.586784          0.828314   \n",
      "88       0.010667         0.001000         0.648635          0.824077   \n",
      "89       0.012333         0.001000         0.580564          0.817371   \n",
      "\n",
      "   param_max_depth param_min_samples_split  \\\n",
      "0                1                       2   \n",
      "1                1                       3   \n",
      "2                1                       4   \n",
      "3                1                       5   \n",
      "4                1                       6   \n",
      "5                1                       7   \n",
      "6                1                       8   \n",
      "7                1                       9   \n",
      "8                1                      10   \n",
      "9                2                       2   \n",
      "10               2                       3   \n",
      "11               2                       4   \n",
      "12               2                       5   \n",
      "13               2                       6   \n",
      "14               2                       7   \n",
      "15               2                       8   \n",
      "16               2                       9   \n",
      "17               2                      10   \n",
      "18               3                       2   \n",
      "19               3                       3   \n",
      "20               3                       4   \n",
      "21               3                       5   \n",
      "22               3                       6   \n",
      "23               3                       7   \n",
      "24               3                       8   \n",
      "25               3                       9   \n",
      "26               3                      10   \n",
      "27               4                       2   \n",
      "28               4                       3   \n",
      "29               4                       4   \n",
      "..             ...                     ...   \n",
      "60               7                       8   \n",
      "61               7                       9   \n",
      "62               7                      10   \n",
      "63               8                       2   \n",
      "64               8                       3   \n",
      "65               8                       4   \n",
      "66               8                       5   \n",
      "67               8                       6   \n",
      "68               8                       7   \n",
      "69               8                       8   \n",
      "70               8                       9   \n",
      "71               8                      10   \n",
      "72               9                       2   \n",
      "73               9                       3   \n",
      "74               9                       4   \n",
      "75               9                       5   \n",
      "76               9                       6   \n",
      "77               9                       7   \n",
      "78               9                       8   \n",
      "79               9                       9   \n",
      "80               9                      10   \n",
      "81              10                       2   \n",
      "82              10                       3   \n",
      "83              10                       4   \n",
      "84              10                       5   \n",
      "85              10                       6   \n",
      "86              10                       7   \n",
      "87              10                       8   \n",
      "88              10                       9   \n",
      "89              10                      10   \n",
      "\n",
      "                                          params  rank_test_score  \\\n",
      "0     {u'min_samples_split': 2, u'max_depth': 1}               82   \n",
      "1     {u'min_samples_split': 3, u'max_depth': 1}               82   \n",
      "2     {u'min_samples_split': 4, u'max_depth': 1}               82   \n",
      "3     {u'min_samples_split': 5, u'max_depth': 1}               82   \n",
      "4     {u'min_samples_split': 6, u'max_depth': 1}               82   \n",
      "5     {u'min_samples_split': 7, u'max_depth': 1}               82   \n",
      "6     {u'min_samples_split': 8, u'max_depth': 1}               82   \n",
      "7     {u'min_samples_split': 9, u'max_depth': 1}               82   \n",
      "8    {u'min_samples_split': 10, u'max_depth': 1}               82   \n",
      "9     {u'min_samples_split': 2, u'max_depth': 2}               73   \n",
      "10    {u'min_samples_split': 3, u'max_depth': 2}               78   \n",
      "11    {u'min_samples_split': 4, u'max_depth': 2}               73   \n",
      "12    {u'min_samples_split': 5, u'max_depth': 2}               73   \n",
      "13    {u'min_samples_split': 6, u'max_depth': 2}               78   \n",
      "14    {u'min_samples_split': 7, u'max_depth': 2}               73   \n",
      "15    {u'min_samples_split': 8, u'max_depth': 2}               78   \n",
      "16    {u'min_samples_split': 9, u'max_depth': 2}               73   \n",
      "17   {u'min_samples_split': 10, u'max_depth': 2}               78   \n",
      "18    {u'min_samples_split': 2, u'max_depth': 3}               70   \n",
      "19    {u'min_samples_split': 3, u'max_depth': 3}               32   \n",
      "20    {u'min_samples_split': 4, u'max_depth': 3}               70   \n",
      "21    {u'min_samples_split': 5, u'max_depth': 3}               32   \n",
      "22    {u'min_samples_split': 6, u'max_depth': 3}               32   \n",
      "23    {u'min_samples_split': 7, u'max_depth': 3}               70   \n",
      "24    {u'min_samples_split': 8, u'max_depth': 3}               32   \n",
      "25    {u'min_samples_split': 9, u'max_depth': 3}               32   \n",
      "26   {u'min_samples_split': 10, u'max_depth': 3}               32   \n",
      "27    {u'min_samples_split': 2, u'max_depth': 4}               58   \n",
      "28    {u'min_samples_split': 3, u'max_depth': 4}               16   \n",
      "29    {u'min_samples_split': 4, u'max_depth': 4}               58   \n",
      "..                                           ...              ...   \n",
      "60    {u'min_samples_split': 8, u'max_depth': 7}               23   \n",
      "61    {u'min_samples_split': 9, u'max_depth': 7}               30   \n",
      "62   {u'min_samples_split': 10, u'max_depth': 7}               27   \n",
      "63    {u'min_samples_split': 2, u'max_depth': 8}               21   \n",
      "64    {u'min_samples_split': 3, u'max_depth': 8}               55   \n",
      "65    {u'min_samples_split': 4, u'max_depth': 8}               66   \n",
      "66    {u'min_samples_split': 5, u'max_depth': 8}                8   \n",
      "67    {u'min_samples_split': 6, u'max_depth': 8}               29   \n",
      "68    {u'min_samples_split': 7, u'max_depth': 8}                5   \n",
      "69    {u'min_samples_split': 8, u'max_depth': 8}               67   \n",
      "70    {u'min_samples_split': 9, u'max_depth': 8}               25   \n",
      "71   {u'min_samples_split': 10, u'max_depth': 8}               65   \n",
      "72    {u'min_samples_split': 2, u'max_depth': 9}               68   \n",
      "73    {u'min_samples_split': 3, u'max_depth': 9}               45   \n",
      "74    {u'min_samples_split': 4, u'max_depth': 9}               10   \n",
      "75    {u'min_samples_split': 5, u'max_depth': 9}               51   \n",
      "76    {u'min_samples_split': 6, u'max_depth': 9}                9   \n",
      "77    {u'min_samples_split': 7, u'max_depth': 9}               46   \n",
      "78    {u'min_samples_split': 8, u'max_depth': 9}               22   \n",
      "79    {u'min_samples_split': 9, u'max_depth': 9}               53   \n",
      "80   {u'min_samples_split': 10, u'max_depth': 9}               52   \n",
      "81   {u'min_samples_split': 2, u'max_depth': 10}               38   \n",
      "82   {u'min_samples_split': 3, u'max_depth': 10}               11   \n",
      "83   {u'min_samples_split': 4, u'max_depth': 10}               40   \n",
      "84   {u'min_samples_split': 5, u'max_depth': 10}                4   \n",
      "85   {u'min_samples_split': 6, u'max_depth': 10}                7   \n",
      "86   {u'min_samples_split': 7, u'max_depth': 10}               44   \n",
      "87   {u'min_samples_split': 8, u'max_depth': 10}               43   \n",
      "88   {u'min_samples_split': 9, u'max_depth': 10}                1   \n",
      "89  {u'min_samples_split': 10, u'max_depth': 10}               47   \n",
      "\n",
      "    split0_test_score  split0_train_score  split1_test_score  \\\n",
      "0            0.303120            0.291877           0.266853   \n",
      "1            0.303120            0.291877           0.266853   \n",
      "2            0.303120            0.291877           0.266853   \n",
      "3            0.303120            0.291877           0.266853   \n",
      "4            0.303120            0.291877           0.266853   \n",
      "5            0.303120            0.291877           0.266853   \n",
      "6            0.303120            0.291877           0.266853   \n",
      "7            0.303120            0.291877           0.266853   \n",
      "8            0.303120            0.291877           0.266853   \n",
      "9            0.463445            0.508205           0.489980   \n",
      "10           0.463445            0.508205           0.489980   \n",
      "11           0.463445            0.508205           0.489980   \n",
      "12           0.463445            0.508205           0.489980   \n",
      "13           0.463445            0.508205           0.489980   \n",
      "14           0.463445            0.508205           0.489980   \n",
      "15           0.463445            0.508205           0.489980   \n",
      "16           0.463445            0.508205           0.489980   \n",
      "17           0.463445            0.508205           0.489980   \n",
      "18           0.646073            0.608939           0.637335   \n",
      "19           0.646073            0.608939           0.637335   \n",
      "20           0.646073            0.608939           0.637335   \n",
      "21           0.646073            0.608939           0.637335   \n",
      "22           0.646073            0.608939           0.637335   \n",
      "23           0.646073            0.608939           0.637335   \n",
      "24           0.646073            0.608939           0.637335   \n",
      "25           0.646073            0.608939           0.637335   \n",
      "26           0.646073            0.608939           0.637335   \n",
      "27           0.678762            0.655254           0.640752   \n",
      "28           0.678762            0.655254           0.640752   \n",
      "29           0.678762            0.655254           0.640752   \n",
      "..                ...                 ...                ...   \n",
      "60           0.599162            0.776828           0.694264   \n",
      "61           0.599299            0.768099           0.673024   \n",
      "62           0.599137            0.767662           0.694500   \n",
      "63           0.611060            0.810368           0.692746   \n",
      "64           0.621929            0.808636           0.695313   \n",
      "65           0.615844            0.807332           0.669694   \n",
      "66           0.616507            0.806377           0.695619   \n",
      "67           0.613919            0.798588           0.668018   \n",
      "68           0.612441            0.797210           0.695640   \n",
      "69           0.615134            0.793996           0.675160   \n",
      "70           0.612036            0.784246           0.674012   \n",
      "71           0.611609            0.783695           0.673942   \n",
      "72           0.603508            0.832577           0.667651   \n",
      "73           0.626070            0.830098           0.681093   \n",
      "74           0.622233            0.828640           0.669298   \n",
      "75           0.621204            0.827347           0.662539   \n",
      "76           0.615348            0.819107           0.686715   \n",
      "77           0.618239            0.816566           0.664781   \n",
      "78           0.619108            0.813044           0.671016   \n",
      "79           0.618242            0.803258           0.671699   \n",
      "80           0.613847            0.800962           0.671362   \n",
      "81           0.628595            0.855163           0.693676   \n",
      "82           0.626660            0.852645           0.655824   \n",
      "83           0.637057            0.850920           0.663342   \n",
      "84           0.627712            0.849055           0.680416   \n",
      "85           0.617720            0.839223           0.658800   \n",
      "86           0.619213            0.836459           0.688971   \n",
      "87           0.618285            0.832746           0.692505   \n",
      "88           0.619477            0.822463           0.693178   \n",
      "89           0.617364            0.819366           0.673097   \n",
      "\n",
      "    split1_train_score  split2_test_score  split2_train_score  std_fit_time  \\\n",
      "0             0.312799           0.190955            0.287091  4.713704e-04   \n",
      "1             0.312799           0.190955            0.287091  1.123916e-07   \n",
      "2             0.312799           0.190955            0.287091  1.123916e-07   \n",
      "3             0.312799           0.190955            0.287091  9.428531e-04   \n",
      "4             0.312799           0.190955            0.287091  1.123916e-07   \n",
      "5             0.312799           0.190955            0.287091  4.713704e-04   \n",
      "6             0.312799           0.190955            0.287091  4.714266e-04   \n",
      "7             0.312799           0.190955            0.287091  9.427407e-04   \n",
      "8             0.312799           0.190955            0.287091  4.713704e-04   \n",
      "9             0.495550           0.426165            0.595288  1.123916e-07   \n",
      "10            0.495550           0.269066            0.595288  4.713704e-04   \n",
      "11            0.495550           0.426165            0.595288  4.713704e-04   \n",
      "12            0.495550           0.426165            0.595288  4.713704e-04   \n",
      "13            0.495550           0.269066            0.595288  0.000000e+00   \n",
      "14            0.495550           0.426165            0.595288  1.123916e-07   \n",
      "15            0.495550           0.269066            0.595288  1.123916e-07   \n",
      "16            0.495550           0.426165            0.595288  0.000000e+00   \n",
      "17            0.495550           0.269066            0.595288  0.000000e+00   \n",
      "18            0.612924           0.369694            0.675373  4.713704e-04   \n",
      "19            0.612924           0.523912            0.675373  1.123916e-07   \n",
      "20            0.612924           0.369694            0.675373  4.713704e-04   \n",
      "21            0.612924           0.523912            0.675373  4.713704e-04   \n",
      "22            0.612924           0.523912            0.675373  4.713704e-04   \n",
      "23            0.612924           0.369694            0.675373  4.713704e-04   \n",
      "24            0.612924           0.523912            0.675373  1.123916e-07   \n",
      "25            0.612924           0.523912            0.675373  4.713142e-04   \n",
      "26            0.612924           0.523912            0.675373  4.714266e-04   \n",
      "27            0.653606           0.391885            0.711674  4.714827e-04   \n",
      "28            0.653606           0.549159            0.711674  1.123916e-07   \n",
      "29            0.653606           0.391885            0.711674  1.123916e-07   \n",
      "..                 ...                ...                 ...           ...   \n",
      "60            0.752458           0.565313            0.778291  4.714827e-04   \n",
      "61            0.752458           0.565313            0.778291  1.123916e-07   \n",
      "62            0.752458           0.548912            0.767498  4.713704e-04   \n",
      "63            0.812501           0.563341            0.813633  4.714266e-04   \n",
      "64            0.812058           0.405500            0.812090  4.713704e-04   \n",
      "65            0.808188           0.406433            0.811539  4.713704e-04   \n",
      "66            0.802938           0.588035            0.811539  4.713704e-04   \n",
      "67            0.800787           0.556539            0.804537  0.000000e+00   \n",
      "68            0.799845           0.602228            0.804222  1.123916e-07   \n",
      "69            0.773844           0.401291            0.802902  4.713704e-04   \n",
      "70            0.773673           0.557030            0.802531  0.000000e+00   \n",
      "71            0.773587           0.407490            0.791564  4.713142e-04   \n",
      "72            0.836790           0.416030            0.837262  0.000000e+00   \n",
      "73            0.833748           0.440831            0.835688  4.714827e-04   \n",
      "74            0.829288           0.596565            0.835103  4.713704e-04   \n",
      "75            0.823849           0.444874            0.834371  4.713704e-04   \n",
      "76            0.820370           0.595104            0.826611  4.713704e-04   \n",
      "77            0.818850           0.462128            0.825688  0.000000e+00   \n",
      "78            0.792313           0.571676            0.821558  0.000000e+00   \n",
      "79            0.791713           0.436509            0.821187  0.000000e+00   \n",
      "80            0.791562           0.442909            0.808804  0.000000e+00   \n",
      "81            0.860802           0.471329            0.861360  4.712580e-04   \n",
      "82            0.857645           0.602881            0.858565  1.414111e-03   \n",
      "83            0.852419           0.476127            0.855627  9.427969e-04   \n",
      "84            0.846270           0.611941            0.854535  8.165347e-04   \n",
      "85            0.841946           0.631611            0.845855  1.123916e-07   \n",
      "86            0.839152           0.449209            0.844703  4.713704e-04   \n",
      "87            0.812056           0.449552            0.840140  4.714827e-04   \n",
      "88            0.810456           0.633260            0.839313  4.713704e-04   \n",
      "89            0.809397           0.451222            0.823351  1.247214e-03   \n",
      "\n",
      "    std_score_time  std_test_score  std_train_score  \n",
      "0     0.000000e+00        0.046734         0.011163  \n",
      "1     1.123916e-07        0.046734         0.011163  \n",
      "2     1.123916e-07        0.046734         0.011163  \n",
      "3     4.714266e-04        0.046734         0.011163  \n",
      "4     0.000000e+00        0.046734         0.011163  \n",
      "5     4.713704e-04        0.046734         0.011163  \n",
      "6     4.713704e-04        0.046734         0.011163  \n",
      "7     4.713704e-04        0.046734         0.011163  \n",
      "8     4.713704e-04        0.046734         0.011163  \n",
      "9     1.123916e-07        0.026174         0.044336  \n",
      "10    4.713704e-04        0.098480         0.044336  \n",
      "11    4.714827e-04        0.026174         0.044336  \n",
      "12    4.713704e-04        0.026174         0.044336  \n",
      "13    1.123916e-07        0.098480         0.044336  \n",
      "14    9.427407e-04        0.026174         0.044336  \n",
      "15    1.123916e-07        0.098480         0.044336  \n",
      "16    4.713704e-04        0.026174         0.044336  \n",
      "17    0.000000e+00        0.098480         0.044336  \n",
      "18    4.713704e-04        0.128274         0.030421  \n",
      "19    4.714827e-04        0.055641         0.030421  \n",
      "20    4.713704e-04        0.128274         0.030421  \n",
      "21    4.713704e-04        0.055641         0.030421  \n",
      "22    4.714827e-04        0.055641         0.030421  \n",
      "23    4.713704e-04        0.128274         0.030421  \n",
      "24    0.000000e+00        0.055641         0.030421  \n",
      "25    8.165347e-04        0.055641         0.030421  \n",
      "26    0.000000e+00        0.055641         0.030421  \n",
      "27    4.714266e-04        0.127224         0.026994  \n",
      "28    1.123916e-07        0.054397         0.026994  \n",
      "29    4.713704e-04        0.127224         0.026994  \n",
      "..             ...             ...              ...  \n",
      "60    0.000000e+00        0.054586         0.011848  \n",
      "61    1.123916e-07        0.044957         0.010624  \n",
      "62    1.123916e-07        0.060378         0.007129  \n",
      "63    1.123916e-07        0.053430         0.001353  \n",
      "64    1.123916e-07        0.123021         0.001621  \n",
      "65    1.123916e-07        0.113554         0.001815  \n",
      "66    4.713704e-04        0.045512         0.003535  \n",
      "67    0.000000e+00        0.045516         0.002456  \n",
      "68    1.123916e-07        0.041834         0.002892  \n",
      "69    0.000000e+00        0.117533         0.012155  \n",
      "70    0.000000e+00        0.047783         0.011921  \n",
      "71    1.123916e-07        0.113791         0.007358  \n",
      "72    1.123916e-07        0.106753         0.002106  \n",
      "73    4.713704e-04        0.102772         0.002317  \n",
      "74    1.123916e-07        0.030117         0.002906  \n",
      "75    4.712580e-04        0.094383         0.004375  \n",
      "76    4.713704e-04        0.039292         0.003280  \n",
      "77    0.000000e+00        0.086666         0.003875  \n",
      "78    4.713704e-04        0.040567         0.012281  \n",
      "79    0.000000e+00        0.100660         0.012126  \n",
      "80    1.123916e-07        0.097017         0.007049  \n",
      "81    1.123916e-07        0.093333         0.002799  \n",
      "82    4.714827e-04        0.021650         0.002601  \n",
      "83    1.123916e-07        0.082754         0.001964  \n",
      "84    4.713704e-04        0.029277         0.003434  \n",
      "85    0.000000e+00        0.017061         0.002722  \n",
      "86    1.123916e-07        0.100689         0.003432  \n",
      "87    0.000000e+00        0.101651         0.011886  \n",
      "88    1.123916e-07        0.031993         0.011836  \n",
      "89    1.123916e-07        0.094240         0.005868  \n",
      "\n",
      "[90 rows x 18 columns]\n",
      "Parameter 'max_depth' is 10 for the optimal model.\n",
      "Parameter 'min_samples_split' is 9 for the optimal model.\n"
     ]
    }
   ],
   "source": [
    "# 基于训练数据，获得最优模型\n",
    "optimal_reg_bj = fit_model_bj(features_train, labels_train)\n",
    "\n",
    "# 输出最优模型的 'max_depth' 参数\n",
    "print \"Parameter 'max_depth' is {} for the optimal model.\".format(optimal_reg_bj.get_params()['max_depth'])\n",
    "# 输出最优模型的 'max_depth' 参数\n",
    "print \"Parameter 'min_samples_split' is {} for the optimal model.\".format(optimal_reg_bj.get_params()['min_samples_split'])"
   ]
  },
  {
   "cell_type": "markdown",
   "metadata": {},
   "source": [
    "### 用测试数据集做出预测，并求取R_2指标"
   ]
  },
  {
   "cell_type": "code",
   "execution_count": 48,
   "metadata": {},
   "outputs": [
    {
     "name": "stdout",
     "output_type": "stream",
     "text": [
      "Optimal model has R^2 score 0.51 on test data\n"
     ]
    }
   ],
   "source": [
    "pred_bj = optimal_reg_bj.predict(features_test)\n",
    "\n",
    "r2 =  performance_metric(labels_test, pred_bj)\n",
    "\n",
    "print \"Optimal model has R^2 score {:,.2f} on test data\".format(r2)"
   ]
  },
  {
   "cell_type": "markdown",
   "metadata": {},
   "source": [
    "### 问题14 - 北京房价预测\n",
    "你成功的用新的数据集构建了模型了吗？他能对测试数据进行验证吗？它的表现是否符合你的预期？交叉验证是否有助于提升你模型的表现？\n",
    "\n",
    "**提示：**如果你是从零开始构建机器学习的代码会让你一时觉得无从下手。这时不要着急，你要做的只是查看之前写的代码，把每一行都看明白，然后逐步构建你的模型。当中遇到什么问题也可以在我们论坛寻找答案。也许你会发现你所构建的模型的表现并没有达到你的预期，这说明机器学习并非是一项简单的任务，构建一个表现良好的模型需要长时间的研究和测试。这也是我们接下来的课程中会逐渐学到的。"
   ]
  },
  {
   "cell_type": "markdown",
   "metadata": {},
   "source": [
    "### 问题14 - 回答\n",
    "1、 成功用新的数据集构建了模型，也可以对测试数据进行验证；  \n",
    "2、 表现暂时不太满意，但R_2 = 0.51的结果也尚可接受；  \n",
    "3、交叉验证有利于在不同的参数组合之间找到最优的结果"
   ]
  }
 ],
 "metadata": {
  "kernelspec": {
   "display_name": "Python 2",
   "language": "python",
   "name": "python2"
  },
  "language_info": {
   "codemirror_mode": {
    "name": "ipython",
    "version": 2
   },
   "file_extension": ".py",
   "mimetype": "text/x-python",
   "name": "python",
   "nbconvert_exporter": "python",
   "pygments_lexer": "ipython2",
   "version": "2.7.13"
  }
 },
 "nbformat": 4,
 "nbformat_minor": 1
}
